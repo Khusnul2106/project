{
  "nbformat": 4,
  "nbformat_minor": 0,
  "metadata": {
    "colab": {
      "provenance": [],
      "authorship_tag": "ABX9TyPdazSOpk23ddJVW6Ut0BTM",
      "include_colab_link": true
    },
    "kernelspec": {
      "name": "python3",
      "display_name": "Python 3"
    },
    "language_info": {
      "name": "python"
    }
  },
  "cells": [
    {
      "cell_type": "markdown",
      "metadata": {
        "id": "view-in-github",
        "colab_type": "text"
      },
      "source": [
        "<a href=\"https://colab.research.google.com/github/Khusnul2106/project/blob/main/tggaji.ipynb\" target=\"_parent\"><img src=\"https://colab.research.google.com/assets/colab-badge.svg\" alt=\"Open In Colab\"/></a>"
      ]
    },
    {
      "cell_type": "code",
      "execution_count": null,
      "metadata": {
        "id": "0m9wXUV0NamH"
      },
      "outputs": [],
      "source": []
    },
    {
      "cell_type": "markdown",
      "source": [
        "1. Gaji sebelum pajak"
      ],
      "metadata": {
        "id": "S9brzjUgN_4R"
      }
    },
    {
      "cell_type": "code",
      "source": [
        "gaji_perjam = 20000\n",
        "jam_kerja = 8\n",
        "hari_kerja = 5\n",
        "minggu_kerja = 5\n",
        "gaji_sebelum_pajak = gaji_perjam * jam_kerja * hari_kerja * minggu_kerja\n",
        "print(\"total gaji selama 5 minggu :\", gaji_sebelum_pajak)\n"
      ],
      "metadata": {
        "colab": {
          "base_uri": "https://localhost:8080/"
        },
        "id": "qLKyT4FiOCxY",
        "outputId": "62f5e202-ad77-4472-8e1b-279ce711b6f2"
      },
      "execution_count": 2,
      "outputs": [
        {
          "output_type": "stream",
          "name": "stdout",
          "text": [
            "total gaji selama 5 minggu : 4000000\n"
          ]
        }
      ]
    },
    {
      "cell_type": "markdown",
      "source": [
        "2. besar gaji setelah pajak"
      ],
      "metadata": {
        "id": "tX8v37zpPvwr"
      }
    },
    {
      "cell_type": "code",
      "source": [
        "gaji_setelah_pajak = gaji_sebelum_pajak * (1- 0.14)\n",
        "print(\"total gaji setelah dikurangi pajak sebesar 14% :\", gaji_setelah_pajak)"
      ],
      "metadata": {
        "colab": {
          "base_uri": "https://localhost:8080/"
        },
        "id": "iP8RZAqDO6Qi",
        "outputId": "3fb323db-5c47-4e54-a441-ecd309e34375"
      },
      "execution_count": 5,
      "outputs": [
        {
          "output_type": "stream",
          "name": "stdout",
          "text": [
            "total gaji setelah dikurangi pajak sebesar 14% : 3440000.0\n"
          ]
        }
      ]
    },
    {
      "cell_type": "markdown",
      "source": [
        "3. uang untuk aksesoris dan pakaian"
      ],
      "metadata": {
        "id": "DIGONJ6xP3Xr"
      }
    },
    {
      "cell_type": "code",
      "source": [
        "aksesoris_dan_pakaian = gaji_setelah_pajak * 0.1\n",
        "print(\"uang untuk aksesoris dan pakaian :\", aksesoris_dan_pakaian)"
      ],
      "metadata": {
        "colab": {
          "base_uri": "https://localhost:8080/"
        },
        "id": "C1_1F4BkPz1I",
        "outputId": "46c4afc8-adce-4961-e6e0-746cc5a96313"
      },
      "execution_count": 6,
      "outputs": [
        {
          "output_type": "stream",
          "name": "stdout",
          "text": [
            "uang untuk aksesoris dan pakaian : 344000.0\n"
          ]
        }
      ]
    },
    {
      "cell_type": "markdown",
      "source": [
        "4. alat tulis"
      ],
      "metadata": {
        "id": "0KRUCZWUQnmJ"
      }
    },
    {
      "cell_type": "code",
      "source": [
        "alat_tulis = gaji_setelah_pajak * 0.01\n",
        "print(\"uang untuk alat tulis :\", alat_tulis)"
      ],
      "metadata": {
        "colab": {
          "base_uri": "https://localhost:8080/"
        },
        "id": "mfyn2YTMQq9Q",
        "outputId": "ed921ac3-e18a-40fc-98f0-bddfc8f7f74e"
      },
      "execution_count": 7,
      "outputs": [
        {
          "output_type": "stream",
          "name": "stdout",
          "text": [
            "uang untuk alat tulis : 34400.0\n"
          ]
        }
      ]
    },
    {
      "cell_type": "markdown",
      "source": [
        "5. uang untuk sedekah"
      ],
      "metadata": {
        "id": "XG-vS9UnQ9VL"
      }
    },
    {
      "cell_type": "code",
      "source": [
        "sisa_gaji = gaji_setelah_pajak - (aksesoris_dan_pakaian + alat_tulis)\n",
        "uang_untuk_sedekah = sisa_gaji * 0.25\n",
        "print(\"uang untuk sedekah :\", uang_untuk_sedekah)"
      ],
      "metadata": {
        "colab": {
          "base_uri": "https://localhost:8080/"
        },
        "id": "QiqyjM3nRAvB",
        "outputId": "66c1df96-65f5-4711-9c72-edda932ef7f6"
      },
      "execution_count": 8,
      "outputs": [
        {
          "output_type": "stream",
          "name": "stdout",
          "text": [
            "uang untuk sedekah : 765400.0\n"
          ]
        }
      ]
    },
    {
      "cell_type": "markdown",
      "source": [
        "6. uang anak yatim"
      ],
      "metadata": {
        "id": "dY-OnlSHRy9Z"
      }
    },
    {
      "cell_type": "code",
      "source": [
        "sedekah_anak_yatim = uang_untuk_sedekah * 0.3\n",
        "print(\"uang untuk sedekah anak yatim :\", sedekah_anak_yatim)"
      ],
      "metadata": {
        "colab": {
          "base_uri": "https://localhost:8080/"
        },
        "id": "f7INY8z7SMx-",
        "outputId": "7855b10d-3bc6-4d45-d519-08c2655de3e8"
      },
      "execution_count": 9,
      "outputs": [
        {
          "output_type": "stream",
          "name": "stdout",
          "text": [
            "uang untuk sedekah anak yatim : 229620.0\n"
          ]
        }
      ]
    },
    {
      "cell_type": "markdown",
      "source": [
        "7. kaum duafa"
      ],
      "metadata": {
        "id": "YUugDW5nShqg"
      }
    },
    {
      "cell_type": "code",
      "source": [
        "uang_kaum_duafa = uang_untuk_sedekah - sedekah_anak_yatim\n",
        "print(\"uang untuk sedekah kaum duafa :\", uang_kaum_duafa)"
      ],
      "metadata": {
        "colab": {
          "base_uri": "https://localhost:8080/"
        },
        "id": "ylb65LFXSmNQ",
        "outputId": "71e2ee7e-5f88-42b5-d8c5-697c9e1dd536"
      },
      "execution_count": 10,
      "outputs": [
        {
          "output_type": "stream",
          "name": "stdout",
          "text": [
            "uang untuk sedekah kaum duafa : 535780.0\n"
          ]
        }
      ]
    }
  ]
}